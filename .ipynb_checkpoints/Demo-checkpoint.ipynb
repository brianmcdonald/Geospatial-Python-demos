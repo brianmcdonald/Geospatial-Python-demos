{
 "cells": [
  {
   "cell_type": "code",
   "execution_count": 20,
   "id": "0a7c698c-e66e-4af6-b574-4cf739201d4c",
   "metadata": {},
   "outputs": [],
   "source": [
    "#| echo: false\n",
    "import pandas as pd\n",
    "import matplotlib.pyplot as plt\n",
    "import pydeck as pdk\n",
    "import matplotlib\n",
    "import matplotlib.dates as mdates\n",
    "import glob\n",
    "import geopandas as gpd\n",
    "from datetime import datetime\n",
    "from IPython.display import display_markdown\n",
    "#plt.style.use('IOM.mplstyle')\n",
    "pd.set_option('display.max_columns', None)"
   ]
  },
  {
   "cell_type": "raw",
   "id": "92f66d99-89f5-4fbf-8494-a96df41dfe18",
   "metadata": {},
   "source": [
    "---\n",
    "title: \"Intro to Python for Geospatial Analysis\"\n",
    "subtitle: \"A demonstratic of tools, examples and resources\"\n",
    "author: \"Brian\"\n",
    "#abstract: \"\"\n",
    "affilliation: \"IOM\"\n",
    "date: today\n",
    "date-format: \"D MMMM YYYY\"\n",
    "title-block-style: default\n",
    "title-block-banner: false\n",
    "format: \n",
    "  html: \n",
    "    self-contained: true\n",
    "    code-fold: true\n",
    "    echo: true\n",
    "    toc: true\n",
    "    warning: false\n",
    "    code-overflow: wrap\n",
    "  docx:\n",
    "    echo: false\n",
    "  pdf:\n",
    "    toc: true\n",
    "    number-sections: true\n",
    "    colorlinks: true\n",
    "    output: true\n",
    "    papersize: A4\n",
    "  revealjs: \n",
    "    code-fold: true\n",
    "    echo: true\n",
    "    scrollable: true\n",
    "jupyter: python3\n",
    "---"
   ]
  },
  {
   "cell_type": "markdown",
   "id": "be96171d-3ebf-4951-b980-0e0acd87677c",
   "metadata": {},
   "source": [
    "# Background\n",
    "Why do this coffeee-break session?"
   ]
  },
  {
   "cell_type": "markdown",
   "id": "90f4c649-ce3f-43c6-a239-c708e9f7f5e4",
   "metadata": {},
   "source": [
    "## Why use Python for geospatial analysis?\n",
    "- Reuseable\n",
    "- Transparency of methods\n",
    "- Easier for collaboration\n",
    "- Wide range of tools\n",
    "- Can integrate with systems/ create data piplines"
   ]
  },
  {
   "cell_type": "markdown",
   "id": "2b876109-2404-4104-8c5e-471a256e3fdc",
   "metadata": {},
   "source": [
    "## Why Python may not be a good fit\n",
    "- Less cartographic options\n",
    "- Steeper learning curve\n",
    "- Less capable for map making\n",
    "\n",
    "Stick to tools like ArcGIS or QGIS if your needs are cartographic"
   ]
  },
  {
   "cell_type": "markdown",
   "id": "249058be-89bd-4800-b7fc-ab2abf3ae343",
   "metadata": {},
   "source": [
    "## Amazing free resources for geospatial analysis in Python\n",
    "- [Geo-Python 2022](https://geo-python-site.readthedocs.io/en/latest/) - Intro course by University of Helsinki\n",
    "- [Introduction to Python for Geographic Data Analysis](https://pythongis.org/) - Comprehensive but not fully complete\n",
    "- [Geographic Data Science with Python](https://geographicdata.science/book/intro.html) - Advanced topics, spatial weights and regressions etc.\n",
    "- [Intro to Python GIS](https://automating-gis-processes.github.io/CSC18/course-info/course-info.html) - Lots of useful examples, geocoding, zonal stats etc.\n",
    "- [Isochrone Maps with OSMnx + Python](https://geoffboeing.com/2017/08/isochrone-maps-osmnx-python/)\n",
    "- [Geopandas docs](https://geopandas.org/en/stable/getting_started/introduction.html) - Cleary explains the concepts and has a comprehensive examples gallery"
   ]
  },
  {
   "cell_type": "markdown",
   "id": "359cb461-8abf-4fd4-b47a-67f516101d10",
   "metadata": {},
   "source": [
    "## Useful tools\n",
    "- Geopandas - tabular vector data manipulation and analysis\n",
    "- RasterIO & RasterStats - raster data manipulation and analysis \n",
    "- Matplotlib - static plots of vector and raster data\n",
    "- Pydeck - interactive mapping\n",
    "- Python-OSRM - routing\n",
    "- OSMnx - Isochrones\n",
    "- h3py - Hexagonal spatial indexing"
   ]
  },
  {
   "cell_type": "markdown",
   "id": "71eb9444-b605-49ac-b49a-b4f61f5c236b",
   "metadata": {},
   "source": [
    "# Geopandas\n",
    "![](images/geopandas1.png)\n",
    "\n",
    "- Reading and writing vector data\n",
    "- Geo data manipulation\n",
    "- Geometric manipulations"
   ]
  },
  {
   "cell_type": "markdown",
   "id": "63222845-3417-4331-b75f-5e9ff9774915",
   "metadata": {},
   "source": [
    "# RasterIO & RasterStats\n",
    "![](images/worldpop.jpeg)"
   ]
  },
  {
   "cell_type": "markdown",
   "id": "4b459979-2f9c-4214-b685-2cedf8589b6a",
   "metadata": {},
   "source": [
    "# Matplotlib\n",
    "- Built in to geopandas\n",
    "- Straight forward to plot layers, vectopr and raster\n",
    "- Labelling is possible but is not elegant\n",
    "- Functional, quick (just a few lines of code), but with a steep learning curve for anything more complex"
   ]
  },
  {
   "cell_type": "markdown",
   "id": "c6bd72fa-926c-4af3-ab0f-35acb42fcfc2",
   "metadata": {},
   "source": [
    "# Pydeck"
   ]
  },
  {
   "cell_type": "code",
   "execution_count": 21,
   "id": "83fd0ea1-ac83-4c10-8b41-c9b8ba00b43c",
   "metadata": {},
   "outputs": [
    {
     "data": {
      "text/html": [
       "\n",
       "        <iframe\n",
       "            width=\"100%\"\n",
       "            height=500\n",
       "            frameborder=\"0\"\n",
       "            srcdoc=\"&lt;!DOCTYPE html&gt;\n",
       "&lt;html&gt;\n",
       "  &lt;head&gt;\n",
       "    &lt;meta http-equiv=&quot;content-type&quot; content=&quot;text/html; charset=UTF-8&quot; /&gt;\n",
       "    &lt;title&gt;pydeck&lt;/title&gt;\n",
       "        &lt;script src=&quot;https://api.tiles.mapbox.com/mapbox-gl-js/v1.13.0/mapbox-gl.js&quot;&gt;&lt;/script&gt;\n",
       "        &lt;link rel=&quot;stylesheet&quot; href=&quot;https://maxcdn.bootstrapcdn.com/bootstrap/3.2.0/css/bootstrap-theme.min.css&quot; /&gt;\n",
       "    &lt;link rel=&quot;stylesheet&quot; href=&quot;https://maxcdn.bootstrapcdn.com/font-awesome/4.6.3/css/font-awesome.min.css&quot; /&gt;\n",
       "    &lt;script src=&#x27;https://cdn.jsdelivr.net/npm/@deck.gl/jupyter-widget@~8.8.*/dist/index.js&#x27;&gt;&lt;/script&gt;\n",
       "    &lt;style&gt;\n",
       "    body {\n",
       "  margin: 0;\n",
       "  padding: 0;\n",
       "  overflow: hidden;\n",
       "}\n",
       "\n",
       "#deck-container {\n",
       "  width: 100vw;\n",
       "  height: 100vh;\n",
       "}\n",
       "\n",
       "#deck-container canvas {\n",
       "  z-index: 1;\n",
       "  background: none;\n",
       "}\n",
       "    &lt;/style&gt;\n",
       "  &lt;/head&gt;\n",
       "  &lt;body&gt;\n",
       "    &lt;div id=&quot;deck-container&quot;&gt;\n",
       "    &lt;/div&gt;\n",
       "  &lt;/body&gt;\n",
       "  &lt;script&gt;\n",
       "    const container = document.getElementById(&#x27;deck-container&#x27;);\n",
       "    const jsonInput = {\n",
       "  &quot;initialViewState&quot;: {\n",
       "    &quot;bearing&quot;: -27.36,\n",
       "    &quot;latitude&quot;: 52.2323,\n",
       "    &quot;longitude&quot;: -1.415,\n",
       "    &quot;maxZoom&quot;: 15,\n",
       "    &quot;minZoom&quot;: 5,\n",
       "    &quot;pitch&quot;: 40.5,\n",
       "    &quot;zoom&quot;: 6\n",
       "  },\n",
       "  &quot;layers&quot;: [\n",
       "    {\n",
       "      &quot;@@type&quot;: &quot;HexagonLayer&quot;,\n",
       "      &quot;autoHighlight&quot;: true,\n",
       "      &quot;coverage&quot;: 1,\n",
       "      &quot;data&quot;: &quot;https://raw.githubusercontent.com/visgl/deck.gl-data/master/examples/3d-heatmap/heatmap-data.csv&quot;,\n",
       "      &quot;elevationRange&quot;: [\n",
       "        0,\n",
       "        3000\n",
       "      ],\n",
       "      &quot;elevationScale&quot;: 50,\n",
       "      &quot;extruded&quot;: true,\n",
       "      &quot;getPosition&quot;: &quot;@@=[lng, lat]&quot;,\n",
       "      &quot;id&quot;: &quot;024f493e-077b-4678-8a3c-1923245e958c&quot;,\n",
       "      &quot;pickable&quot;: true\n",
       "    }\n",
       "  ],\n",
       "  &quot;mapProvider&quot;: &quot;carto&quot;,\n",
       "  &quot;mapStyle&quot;: &quot;https://basemaps.cartocdn.com/gl/dark-matter-gl-style/style.json&quot;,\n",
       "  &quot;views&quot;: [\n",
       "    {\n",
       "      &quot;@@type&quot;: &quot;MapView&quot;,\n",
       "      &quot;controller&quot;: true\n",
       "    }\n",
       "  ]\n",
       "};\n",
       "    const tooltip = true;\n",
       "    const customLibraries = null;\n",
       "    const configuration = null;\n",
       "\n",
       "    const deckInstance = createDeck({\n",
       "                  container,\n",
       "      jsonInput,\n",
       "      tooltip,\n",
       "      customLibraries,\n",
       "      configuration\n",
       "    });\n",
       "\n",
       "  &lt;/script&gt;\n",
       "&lt;/html&gt;\"\n",
       "        ></iframe>\n",
       "    "
      ],
      "text/plain": [
       "<IPython.core.display.HTML object>"
      ]
     },
     "execution_count": 21,
     "metadata": {},
     "output_type": "execute_result"
    }
   ],
   "source": [
    "\"\"\"\n",
    "HexagonLayer\n",
    "==============\n",
    "\n",
    "Personal injury road accidents in GB from 1979.\n",
    "\n",
    "The layer aggregates data within the boundary of each hexagon cell.\n",
    "\n",
    "This example is adapted from the deck.gl documentation.\n",
    "\"\"\"\n",
    "\n",
    "import pydeck as pdk\n",
    "\n",
    "HEXAGON_LAYER_DATA = (\n",
    "    \"https://raw.githubusercontent.com/visgl/deck.gl-data/master/examples/3d-heatmap/heatmap-data.csv\"  # noqa\n",
    ")\n",
    "\n",
    "# Define a layer to display on a map\n",
    "layer = pdk.Layer(\n",
    "    \"HexagonLayer\",\n",
    "    HEXAGON_LAYER_DATA,\n",
    "    get_position=[\"lng\", \"lat\"],\n",
    "    auto_highlight=True,\n",
    "    elevation_scale=50,\n",
    "    pickable=True,\n",
    "    elevation_range=[0, 3000],\n",
    "    extruded=True,\n",
    "    coverage=1,\n",
    ")\n",
    "\n",
    "# Set the viewport location\n",
    "view_state = pdk.ViewState(\n",
    "    longitude=-1.415, latitude=52.2323, zoom=6, min_zoom=5, max_zoom=15, pitch=40.5, bearing=-27.36,\n",
    ")\n",
    "\n",
    "# Render\n",
    "r = pdk.Deck(layers=[layer], initial_view_state=view_state)\n",
    "r.to_html(\"hexagon_layer.html\")"
   ]
  },
  {
   "cell_type": "markdown",
   "id": "d679969d-0b1b-4c06-938b-4d693b0deb7f",
   "metadata": {},
   "source": [
    "# Python-OSRM or Google Maps API\n",
    "![](images/osrm.png)\n",
    "\n",
    "- find the shortest path and travel times/distances between points\n",
    "- Compute the times between all pairs of points (such as all IDP sites and health facilities)"
   ]
  },
  {
   "cell_type": "markdown",
   "id": "2d197d46-75b8-4ef7-9dbb-273f3684db41",
   "metadata": {},
   "source": [
    "# OSMnx\n",
    "![](images/osmnx.webp)"
   ]
  },
  {
   "cell_type": "markdown",
   "id": "800295dd-0116-40aa-b0ca-a707db162ce0",
   "metadata": {},
   "source": [
    "# h3py\n",
    "<iframe src=\"https://wolf-h3-viewer.glitch.me/\" title=\"H3\" style=\"width:100%; height:500px\"></iframe>"
   ]
  },
  {
   "cell_type": "markdown",
   "id": "c40bdde8-cea8-4930-a6a8-9fa6313bd178",
   "metadata": {},
   "source": [
    "# Example 1 - Hurricane exposure analysis"
   ]
  },
  {
   "cell_type": "code",
   "execution_count": 22,
   "id": "ee2c14b9-9bcc-48ee-a7da-e2d587a53f6a",
   "metadata": {},
   "outputs": [
    {
     "name": "stdout",
     "output_type": "stream",
     "text": [
      "Estimated exposed population: between 32,751 and 32,751\n"
     ]
    }
   ],
   "source": [
    "import requests\n",
    "import geopandas as gpd\n",
    "import matplotlib.pyplot as plt\n",
    "import rasterstats\n",
    "from rasterstats import zonal_stats, point_query\n",
    "import shapely\n",
    "import warnings\n",
    "from shapely.errors import ShapelyDeprecationWarning\n",
    "warnings.filterwarnings(\"ignore\", category=ShapelyDeprecationWarning) \n",
    "\n",
    "affectedarea = 'AbacoFloodExtent.shp'\n",
    "populationraster = 'Worldpop/bhs_ppp_2019.tif'\n",
    "\n",
    "statsmax = zonal_stats(affectedarea, populationraster , stats=\"count\", all_touched=True)\n",
    "resultmax = {}\n",
    "for myDict in statsmax:\n",
    "    for key, value in myDict.items():\n",
    "        resultmax.setdefault(key, 0)\n",
    "        resultmax[key] += value\n",
    "statsmin = zonal_stats(affectedarea, populationraster , stats=\"count\", all_touched=False)\n",
    "resultmin = {}\n",
    "for myDict in statsmax:\n",
    "    for key, value in myDict.items():\n",
    "        resultmin.setdefault(key, 0)\n",
    "        resultmin[key] += value\n",
    "        \n",
    "print(\"Estimated exposed population: between\", \"{:,}\".format(resultmin[\"count\"]),\"and\",\"{:,}\".format(resultmax[\"count\"]))"
   ]
  },
  {
   "cell_type": "markdown",
   "id": "68276ccb-ac1d-4dd4-9b22-23319dcb3410",
   "metadata": {},
   "source": [
    "# Example 2 - Travel distance Ethiopia"
   ]
  },
  {
   "cell_type": "code",
   "execution_count": 23,
   "id": "64fdb935-14f4-4981-af06-849ac877d32c",
   "metadata": {},
   "outputs": [],
   "source": [
    "import requests\n",
    "import json\n",
    "import pandas as pd\n",
    "import matplotlib.pyplot as plt\n",
    "import numpy as np\n",
    "# import matplotlib\n",
    "# matplotlib.rcParams.update({'font.size': 14})\n",
    "# %matplotlib inline\n",
    "\n",
    "# #openrouteservice\n",
    "\n",
    "# def distance(start, end):\n",
    "#     api_key ='5b3ce3597851110001cf6248a141c1919e684c33a2bec1ab18ea3f4c'\n",
    "#     url ='https://api.openrouteservice.org/v2/directions/driving-car?'\n",
    "#     try:\n",
    "#         r = requests.get(url + 'api_key=' + api_key + '&start=' + start + '&end=' + end)\n",
    "#         x = r.json()\n",
    "#         distance = x['features'][0]['properties']['summary']['distance']/1000\n",
    "#     except KeyError:\n",
    "#         distance = 'error'\n",
    "#     return distance\n",
    "\n",
    "# raw = pd.read_excel('distances.xlsx')\n",
    "# df = raw\n",
    "# df = raw[['1.1.f.1: GPS: Longitude', '1.1.f.2: GPS: Latitude','Origin of Large IDP_Longitude','Origin of Large IDP_Latitude']]\n",
    "# df = df.rename(columns={'1.1.f.1: GPS: Longitude':'current long','1.1.f.2: GPS: Latitude':'current lat','Origin of Large IDP_Longitude':'origin long','Origin of Large IDP_Latitude':'origin lat'})\n",
    "# df = df.astype(str)\n",
    "# df['current']= df['current long']+', '+df['current lat']\n",
    "# df['origin']= df['origin long']+', '+df['origin lat']\n",
    "# df['distance'] = df.apply(lambda x: distance(x['current'],x['origin']),axis=1)\n",
    "# df.to_excel('distances-calculated-openrouteservice.xlsx')\n",
    "# df['distance'].values()\n",
    "\n",
    "# x = df[df['distance']!='error']['distance'].astype(int)\n",
    "\n",
    "# fig,ax = plt.subplots(1)\n",
    "# plt.hist(x, density=True, bins=30)  # density=False would make counts\n",
    "# plt.ylabel('Frequency')\n",
    "# plt.xlabel('Distance (km)')\n",
    "# #ax.set_yticklabels([])\n",
    "# fig.savefig(\"distance.png\", format=\"png\", transparent=True, bbox_inches='tight', pad_inches=0) "
   ]
  },
  {
   "cell_type": "markdown",
   "id": "56cf7e18-e46b-4c2a-9111-40f9399078d2",
   "metadata": {},
   "source": [
    "# Example 3 = H3 in Pakistan\n",
    "[Pakistan example of survey locations](h3_hexagon_layer.html)"
   ]
  },
  {
   "cell_type": "code",
   "execution_count": null,
   "id": "d54b230a-0517-4d42-bc81-f017b9d391f1",
   "metadata": {},
   "outputs": [],
   "source": []
  }
 ],
 "metadata": {
  "kernelspec": {
   "display_name": "Python 3 (ipykernel)",
   "language": "python",
   "name": "python3"
  },
  "language_info": {
   "codemirror_mode": {
    "name": "ipython",
    "version": 3
   },
   "file_extension": ".py",
   "mimetype": "text/x-python",
   "name": "python",
   "nbconvert_exporter": "python",
   "pygments_lexer": "ipython3",
   "version": "3.10.8"
  }
 },
 "nbformat": 4,
 "nbformat_minor": 5
}
